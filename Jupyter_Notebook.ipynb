{
 "cells": [
  {
   "cell_type": "markdown",
   "metadata": {},
   "source": [
    "<center>\n",
    "    <img src=\"https://cf-courses-data.s3.us.cloud-object-storage.appdomain.cloud/IBMDeveloperSkillsNetwork-DS0105EN-SkillsNetwork/labs/Module2/images/SN_web_lightmode.png\" width=\"300\" alt=\"cognitiveclass.ai logo\">\n",
    "</center>\n"
   ]
  },
  {
   "cell_type": "markdown",
   "metadata": {},
   "source": [
    "#### Add your code below following the instructions given in the course\n"
   ]
  },
  {
   "cell_type": "markdown",
   "metadata": {},
   "source": [
    "## My Jupyter Notebook on IBM Watson Studio"
   ]
  },
  {
   "cell_type": "markdown",
   "metadata": {},
   "source": [
    "**Mahendra Prajapati**"
   ]
  },
  {
   "cell_type": "markdown",
   "metadata": {},
   "source": [
    "Data Analyst"
   ]
  },
  {
   "cell_type": "markdown",
   "metadata": {},
   "source": [
    "*I am interested in data science because i love to gain insights from the data*"
   ]
  },
  {
   "cell_type": "markdown",
   "metadata": {},
   "source": [
    "**List of data science languages:-**\n",
    "1) R\n",
    "2) Python\n",
    "3) Julia\n",
    "4) SQL\n",
    "5) Java\n",
    "6) Scala\n",
    "7) JavaScript."
   ]
  },
  {
   "cell_type": "markdown",
   "metadata": {},
   "source": [
    "**List of data science Libraries:-**\n",
    "1) Pandas\n",
    "2) Numpy\n",
    "3) Seaborn\n",
    "4) Matplotlib\n",
    "5) scikit-learn\n",
    "6) TensorFlow"
   ]
  },
  {
   "cell_type": "markdown",
   "metadata": {},
   "source": [
    "|Data Science Tools|\n",
    "|------------------|\n",
    "|SAS|\n",
    "|Apache Spark|\n",
    "|Excel|\n",
    "|ggplot2|\n",
    "|Tableau|\n",
    "|Jupyter|\n",
    "\n"
   ]
  },
  {
   "cell_type": "markdown",
   "metadata": {},
   "source": [
    "The sum of the two number is arithmetic expression. The difference between two number is an arithmetic expression. \n",
    "Examples :- (7+3) and (7-3)."
   ]
  },
  {
   "cell_type": "code",
   "execution_count": 1,
   "metadata": {},
   "outputs": [
    {
     "name": "stdin",
     "output_type": "stream",
     "text": [
      " 5\n",
      " 5\n"
     ]
    },
    {
     "name": "stdout",
     "output_type": "stream",
     "text": [
      "Multiplication of two numbers :  25\n",
      "Addition of two numbers :  10\n"
     ]
    }
   ],
   "source": [
    "x = int(input())\n",
    "y = int(input())\n",
    "print(\"Multiplication of two numbers : \", x*y)\n",
    "print(\"Addition of two numbers : \", x+y)"
   ]
  },
  {
   "cell_type": "code",
   "execution_count": 6,
   "metadata": {},
   "outputs": [
    {
     "name": "stdin",
     "output_type": "stream",
     "text": [
      " 50\n"
     ]
    },
    {
     "name": "stdout",
     "output_type": "stream",
     "text": [
      "Convert minutes into hours :  0.8333333333333334 hour\n"
     ]
    }
   ],
   "source": [
    "a = float(input())\n",
    "print(\"Convert minutes into hours : \", a/60, \"hour\")"
   ]
  },
  {
   "cell_type": "markdown",
   "metadata": {},
   "source": [
    "**Objectives :-**\n",
    "1) Python \n",
    "2) SQL\n",
    "3) Packages\n",
    "4) APIs\n",
    "5) Machine Learning\n",
    "6) Described the fundamental's of jupyter notebook\n",
    "7) how to Create a markdown cell in jupyter notebook\n",
    "8) RStudio IDE\n",
    "9) GitHub\n",
    "10) Watson Studio "
   ]
  },
  {
   "cell_type": "markdown",
   "metadata": {},
   "source": [
    "**Author's Name :-**\n",
    "1) Joseph Santarcangelo\n",
    "2) Malika Singla\n",
    "3) Romeo\n",
    "4) Romeo Kienzler"
   ]
  },
  {
   "cell_type": "code",
   "execution_count": null,
   "metadata": {},
   "outputs": [],
   "source": []
  }
 ],
 "metadata": {
  "kernelspec": {
   "display_name": "Python",
   "language": "python",
   "name": "conda-env-python-py"
  },
  "language_info": {
   "codemirror_mode": {
    "name": "ipython",
    "version": 3
   },
   "file_extension": ".py",
   "mimetype": "text/x-python",
   "name": "python",
   "nbconvert_exporter": "python",
   "pygments_lexer": "ipython3",
   "version": "3.7.12"
  }
 },
 "nbformat": 4,
 "nbformat_minor": 4
}
